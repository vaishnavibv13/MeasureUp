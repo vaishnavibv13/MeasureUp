{
 "cells": [
  {
   "cell_type": "markdown",
   "metadata": {
    "colab": {},
    "colab_type": "code",
    "id": "ilmvysRNS3_y"
   },
   "source": [
    "# Exploratory Data Analysis"
   ]
  },
  {
   "cell_type": "markdown",
   "metadata": {
    "colab_type": "text",
    "id": "4nYAGxDdblam"
   },
   "source": [
    "This step involves the following:\n",
    "\n",
    ">1.[Import and Read data](#Import-and-Read-data)<br>\n",
    ">2.[Data Dictionary](#Data-Dictionary)<br>\n",
    ">3.[Data Visualization](#Data-Visualization)<br>\n",
    "\n"
   ]
  },
  {
   "cell_type": "markdown",
   "metadata": {
    "colab": {},
    "colab_type": "code",
    "id": "qAAvgJEvTTsT"
   },
   "source": [
    "## Import and Read data"
   ]
  },
  {
   "cell_type": "code",
   "execution_count": 0,
   "metadata": {
    "colab": {},
    "colab_type": "code",
    "id": "OCW1tU4BPTfI"
   },
   "outputs": [],
   "source": [
    "#Imports:\n",
    "import numpy as np\n",
    "import pandas as pd\n",
    "import matplotlib.pyplot as plt\n",
    "import seaborn as sns"
   ]
  },
  {
   "cell_type": "code",
   "execution_count": 0,
   "metadata": {
    "colab": {},
    "colab_type": "code",
    "id": "b-9_IC1CKelV"
   },
   "outputs": [],
   "source": [
    "pd.set_option('display.max_columns', None) \n",
    "pd.set_option('display.max_rows', None)  \n",
    "pd.set_option('display.max_colwidth', -1)  "
   ]
  },
  {
   "cell_type": "code",
   "execution_count": 5,
   "metadata": {
    "colab": {
     "base_uri": "https://localhost:8080/",
     "height": 34
    },
    "colab_type": "code",
    "id": "ht6A2yQSUJ2x",
    "outputId": "60e91f3f-1469-4e68-8e04-222edf62fc48"
   },
   "outputs": [
    {
     "name": "stdout",
     "output_type": "stream",
     "text": [
      "Drive already mounted at /content/gdrive; to attempt to forcibly remount, call drive.mount(\"/content/gdrive\", force_remount=True).\n"
     ]
    }
   ],
   "source": [
    "from google.colab import drive \n",
    "drive.mount('/content/gdrive')"
   ]
  },
  {
   "cell_type": "code",
   "execution_count": 0,
   "metadata": {
    "colab": {},
    "colab_type": "code",
    "id": "sFyH8tE8XUJy"
   },
   "outputs": [],
   "source": [
    "#Code:\n",
    "# reading the csv file into pandas dataframes\n",
    "df=pd.read_csv('/content/gdrive/My Drive/DSI/data-science-bowl-2019/train.csv')\n",
    "score=pd.read_csv('/content/gdrive/My Drive/DSI/data-science-bowl-2019/train_labels.csv')\n"
   ]
  },
  {
   "cell_type": "code",
   "execution_count": 7,
   "metadata": {
    "colab": {
     "base_uri": "https://localhost:8080/",
     "height": 51
    },
    "colab_type": "code",
    "id": "TMUaxjtIHl04",
    "outputId": "b5e0df01-7fe8-4c8c-f539-0d4b43edcc19"
   },
   "outputs": [
    {
     "name": "stdout",
     "output_type": "stream",
     "text": [
      "(11341042, 11)\n",
      "(17690, 7)\n"
     ]
    }
   ],
   "source": [
    "#displaying the dimensions of dataframe \n",
    "print(df.shape)\n",
    "print(score.shape)"
   ]
  },
  {
   "cell_type": "code",
   "execution_count": 8,
   "metadata": {
    "colab": {
     "base_uri": "https://localhost:8080/",
     "height": 289
    },
    "colab_type": "code",
    "id": "9CNIs8zidf_p",
    "outputId": "3ad09d6e-f8a6-4a17-a68d-e7c97358881f"
   },
   "outputs": [
    {
     "name": "stdout",
     "output_type": "stream",
     "text": [
      "<class 'pandas.core.frame.DataFrame'>\n",
      "RangeIndex: 11341042 entries, 0 to 11341041\n",
      "Data columns (total 11 columns):\n",
      "event_id           object\n",
      "game_session       object\n",
      "timestamp          object\n",
      "event_data         object\n",
      "installation_id    object\n",
      "event_count        int64\n",
      "event_code         int64\n",
      "game_time          int64\n",
      "title              object\n",
      "type               object\n",
      "world              object\n",
      "dtypes: int64(3), object(8)\n",
      "memory usage: 951.8+ MB\n"
     ]
    }
   ],
   "source": [
    "df.info()"
   ]
  },
  {
   "cell_type": "code",
   "execution_count": 9,
   "metadata": {
    "colab": {
     "base_uri": "https://localhost:8080/",
     "height": 221
    },
    "colab_type": "code",
    "id": "Wd4EHDscdi_e",
    "outputId": "5c87c468-5435-4c60-8d14-701b2fe10c48"
   },
   "outputs": [
    {
     "name": "stdout",
     "output_type": "stream",
     "text": [
      "<class 'pandas.core.frame.DataFrame'>\n",
      "RangeIndex: 17690 entries, 0 to 17689\n",
      "Data columns (total 7 columns):\n",
      "game_session       17690 non-null object\n",
      "installation_id    17690 non-null object\n",
      "title              17690 non-null object\n",
      "num_correct        17690 non-null int64\n",
      "num_incorrect      17690 non-null int64\n",
      "accuracy           17690 non-null float64\n",
      "accuracy_group     17690 non-null int64\n",
      "dtypes: float64(1), int64(3), object(3)\n",
      "memory usage: 967.5+ KB\n"
     ]
    }
   ],
   "source": [
    "score.info()"
   ]
  },
  {
   "cell_type": "code",
   "execution_count": 10,
   "metadata": {
    "colab": {
     "base_uri": "https://localhost:8080/",
     "height": 394
    },
    "colab_type": "code",
    "id": "0tY5cUk7HcJe",
    "outputId": "9040809f-9722-409c-9df5-ff9114c9d5cc"
   },
   "outputs": [
    {
     "data": {
      "text/html": [
       "<div>\n",
       "<style scoped>\n",
       "    .dataframe tbody tr th:only-of-type {\n",
       "        vertical-align: middle;\n",
       "    }\n",
       "\n",
       "    .dataframe tbody tr th {\n",
       "        vertical-align: top;\n",
       "    }\n",
       "\n",
       "    .dataframe thead th {\n",
       "        text-align: right;\n",
       "    }\n",
       "</style>\n",
       "<table border=\"1\" class=\"dataframe\">\n",
       "  <thead>\n",
       "    <tr style=\"text-align: right;\">\n",
       "      <th></th>\n",
       "      <th>event_id</th>\n",
       "      <th>game_session</th>\n",
       "      <th>timestamp</th>\n",
       "      <th>event_data</th>\n",
       "      <th>installation_id</th>\n",
       "      <th>event_count</th>\n",
       "      <th>event_code</th>\n",
       "      <th>game_time</th>\n",
       "      <th>title</th>\n",
       "      <th>type</th>\n",
       "      <th>world</th>\n",
       "    </tr>\n",
       "  </thead>\n",
       "  <tbody>\n",
       "    <tr>\n",
       "      <th>0</th>\n",
       "      <td>27253bdc</td>\n",
       "      <td>45bb1e1b6b50c07b</td>\n",
       "      <td>2019-09-06T17:53:46.937Z</td>\n",
       "      <td>{\"event_code\": 2000, \"event_count\": 1}</td>\n",
       "      <td>0001e90f</td>\n",
       "      <td>1</td>\n",
       "      <td>2000</td>\n",
       "      <td>0</td>\n",
       "      <td>Welcome to Lost Lagoon!</td>\n",
       "      <td>Clip</td>\n",
       "      <td>NONE</td>\n",
       "    </tr>\n",
       "    <tr>\n",
       "      <th>1</th>\n",
       "      <td>27253bdc</td>\n",
       "      <td>17eeb7f223665f53</td>\n",
       "      <td>2019-09-06T17:54:17.519Z</td>\n",
       "      <td>{\"event_code\": 2000, \"event_count\": 1}</td>\n",
       "      <td>0001e90f</td>\n",
       "      <td>1</td>\n",
       "      <td>2000</td>\n",
       "      <td>0</td>\n",
       "      <td>Magma Peak - Level 1</td>\n",
       "      <td>Clip</td>\n",
       "      <td>MAGMAPEAK</td>\n",
       "    </tr>\n",
       "    <tr>\n",
       "      <th>2</th>\n",
       "      <td>77261ab5</td>\n",
       "      <td>0848ef14a8dc6892</td>\n",
       "      <td>2019-09-06T17:54:56.302Z</td>\n",
       "      <td>{\"version\":\"1.0\",\"event_count\":1,\"game_time\":0,\"event_code\":2000}</td>\n",
       "      <td>0001e90f</td>\n",
       "      <td>1</td>\n",
       "      <td>2000</td>\n",
       "      <td>0</td>\n",
       "      <td>Sandcastle Builder (Activity)</td>\n",
       "      <td>Activity</td>\n",
       "      <td>MAGMAPEAK</td>\n",
       "    </tr>\n",
       "    <tr>\n",
       "      <th>3</th>\n",
       "      <td>b2dba42b</td>\n",
       "      <td>0848ef14a8dc6892</td>\n",
       "      <td>2019-09-06T17:54:56.387Z</td>\n",
       "      <td>{\"description\":\"Let's build a sandcastle! First, fill up your mold with sand! You can use the shovel here. The mold gives the sand its shape!\",\"identifier\":\"Dot_LetsSandcastle,Dot_FillMold,Dot_MoldShape\",\"media_type\":\"audio\",\"total_duration\":6758,\"event_count\":2,\"game_time\":53,\"event_code\":3010}</td>\n",
       "      <td>0001e90f</td>\n",
       "      <td>2</td>\n",
       "      <td>3010</td>\n",
       "      <td>53</td>\n",
       "      <td>Sandcastle Builder (Activity)</td>\n",
       "      <td>Activity</td>\n",
       "      <td>MAGMAPEAK</td>\n",
       "    </tr>\n",
       "    <tr>\n",
       "      <th>4</th>\n",
       "      <td>1bb5fbdb</td>\n",
       "      <td>0848ef14a8dc6892</td>\n",
       "      <td>2019-09-06T17:55:03.253Z</td>\n",
       "      <td>{\"description\":\"Let's build a sandcastle! First, fill up your mold with sand! You can use the shovel here. The mold gives the sand its shape!\",\"identifier\":\"Dot_LetsSandcastle,Dot_FillMold,Dot_MoldShape\",\"media_type\":\"audio\",\"duration\":6919,\"event_count\":3,\"game_time\":6972,\"event_code\":3110}</td>\n",
       "      <td>0001e90f</td>\n",
       "      <td>3</td>\n",
       "      <td>3110</td>\n",
       "      <td>6972</td>\n",
       "      <td>Sandcastle Builder (Activity)</td>\n",
       "      <td>Activity</td>\n",
       "      <td>MAGMAPEAK</td>\n",
       "    </tr>\n",
       "  </tbody>\n",
       "</table>\n",
       "</div>"
      ],
      "text/plain": [
       "   event_id      game_session                 timestamp  \\\n",
       "0  27253bdc  45bb1e1b6b50c07b  2019-09-06T17:53:46.937Z   \n",
       "1  27253bdc  17eeb7f223665f53  2019-09-06T17:54:17.519Z   \n",
       "2  77261ab5  0848ef14a8dc6892  2019-09-06T17:54:56.302Z   \n",
       "3  b2dba42b  0848ef14a8dc6892  2019-09-06T17:54:56.387Z   \n",
       "4  1bb5fbdb  0848ef14a8dc6892  2019-09-06T17:55:03.253Z   \n",
       "\n",
       "                                                                                                                                                                                                                                                                                                 event_data  \\\n",
       "0  {\"event_code\": 2000, \"event_count\": 1}                                                                                                                                                                                                                                                                     \n",
       "1  {\"event_code\": 2000, \"event_count\": 1}                                                                                                                                                                                                                                                                     \n",
       "2  {\"version\":\"1.0\",\"event_count\":1,\"game_time\":0,\"event_code\":2000}                                                                                                                                                                                                                                          \n",
       "3  {\"description\":\"Let's build a sandcastle! First, fill up your mold with sand! You can use the shovel here. The mold gives the sand its shape!\",\"identifier\":\"Dot_LetsSandcastle,Dot_FillMold,Dot_MoldShape\",\"media_type\":\"audio\",\"total_duration\":6758,\"event_count\":2,\"game_time\":53,\"event_code\":3010}   \n",
       "4  {\"description\":\"Let's build a sandcastle! First, fill up your mold with sand! You can use the shovel here. The mold gives the sand its shape!\",\"identifier\":\"Dot_LetsSandcastle,Dot_FillMold,Dot_MoldShape\",\"media_type\":\"audio\",\"duration\":6919,\"event_count\":3,\"game_time\":6972,\"event_code\":3110}       \n",
       "\n",
       "  installation_id  event_count  event_code  game_time  \\\n",
       "0  0001e90f        1            2000        0           \n",
       "1  0001e90f        1            2000        0           \n",
       "2  0001e90f        1            2000        0           \n",
       "3  0001e90f        2            3010        53          \n",
       "4  0001e90f        3            3110        6972        \n",
       "\n",
       "                           title      type      world  \n",
       "0  Welcome to Lost Lagoon!        Clip      NONE       \n",
       "1  Magma Peak - Level 1           Clip      MAGMAPEAK  \n",
       "2  Sandcastle Builder (Activity)  Activity  MAGMAPEAK  \n",
       "3  Sandcastle Builder (Activity)  Activity  MAGMAPEAK  \n",
       "4  Sandcastle Builder (Activity)  Activity  MAGMAPEAK  "
      ]
     },
     "execution_count": 10,
     "metadata": {
      "tags": []
     },
     "output_type": "execute_result"
    }
   ],
   "source": [
    "#displaying the first 5 rows of dataframe -df\n",
    "df.head()"
   ]
  },
  {
   "cell_type": "code",
   "execution_count": 11,
   "metadata": {
    "colab": {
     "base_uri": "https://localhost:8080/",
     "height": 204
    },
    "colab_type": "code",
    "id": "RvlCmaigTZLx",
    "outputId": "f3e871d9-b828-4553-d01d-322c87f3a8be"
   },
   "outputs": [
    {
     "data": {
      "text/html": [
       "<div>\n",
       "<style scoped>\n",
       "    .dataframe tbody tr th:only-of-type {\n",
       "        vertical-align: middle;\n",
       "    }\n",
       "\n",
       "    .dataframe tbody tr th {\n",
       "        vertical-align: top;\n",
       "    }\n",
       "\n",
       "    .dataframe thead th {\n",
       "        text-align: right;\n",
       "    }\n",
       "</style>\n",
       "<table border=\"1\" class=\"dataframe\">\n",
       "  <thead>\n",
       "    <tr style=\"text-align: right;\">\n",
       "      <th></th>\n",
       "      <th>game_session</th>\n",
       "      <th>installation_id</th>\n",
       "      <th>title</th>\n",
       "      <th>num_correct</th>\n",
       "      <th>num_incorrect</th>\n",
       "      <th>accuracy</th>\n",
       "      <th>accuracy_group</th>\n",
       "    </tr>\n",
       "  </thead>\n",
       "  <tbody>\n",
       "    <tr>\n",
       "      <th>0</th>\n",
       "      <td>6bdf9623adc94d89</td>\n",
       "      <td>0006a69f</td>\n",
       "      <td>Mushroom Sorter (Assessment)</td>\n",
       "      <td>1</td>\n",
       "      <td>0</td>\n",
       "      <td>1.0</td>\n",
       "      <td>3</td>\n",
       "    </tr>\n",
       "    <tr>\n",
       "      <th>1</th>\n",
       "      <td>77b8ee947eb84b4e</td>\n",
       "      <td>0006a69f</td>\n",
       "      <td>Bird Measurer (Assessment)</td>\n",
       "      <td>0</td>\n",
       "      <td>11</td>\n",
       "      <td>0.0</td>\n",
       "      <td>0</td>\n",
       "    </tr>\n",
       "    <tr>\n",
       "      <th>2</th>\n",
       "      <td>901acc108f55a5a1</td>\n",
       "      <td>0006a69f</td>\n",
       "      <td>Mushroom Sorter (Assessment)</td>\n",
       "      <td>1</td>\n",
       "      <td>0</td>\n",
       "      <td>1.0</td>\n",
       "      <td>3</td>\n",
       "    </tr>\n",
       "    <tr>\n",
       "      <th>3</th>\n",
       "      <td>9501794defd84e4d</td>\n",
       "      <td>0006a69f</td>\n",
       "      <td>Mushroom Sorter (Assessment)</td>\n",
       "      <td>1</td>\n",
       "      <td>1</td>\n",
       "      <td>0.5</td>\n",
       "      <td>2</td>\n",
       "    </tr>\n",
       "    <tr>\n",
       "      <th>4</th>\n",
       "      <td>a9ef3ecb3d1acc6a</td>\n",
       "      <td>0006a69f</td>\n",
       "      <td>Bird Measurer (Assessment)</td>\n",
       "      <td>1</td>\n",
       "      <td>0</td>\n",
       "      <td>1.0</td>\n",
       "      <td>3</td>\n",
       "    </tr>\n",
       "  </tbody>\n",
       "</table>\n",
       "</div>"
      ],
      "text/plain": [
       "       game_session installation_id                         title  \\\n",
       "0  6bdf9623adc94d89  0006a69f        Mushroom Sorter (Assessment)   \n",
       "1  77b8ee947eb84b4e  0006a69f        Bird Measurer (Assessment)     \n",
       "2  901acc108f55a5a1  0006a69f        Mushroom Sorter (Assessment)   \n",
       "3  9501794defd84e4d  0006a69f        Mushroom Sorter (Assessment)   \n",
       "4  a9ef3ecb3d1acc6a  0006a69f        Bird Measurer (Assessment)     \n",
       "\n",
       "   num_correct  num_incorrect  accuracy  accuracy_group  \n",
       "0  1            0              1.0       3               \n",
       "1  0            11             0.0       0               \n",
       "2  1            0              1.0       3               \n",
       "3  1            1              0.5       2               \n",
       "4  1            0              1.0       3               "
      ]
     },
     "execution_count": 11,
     "metadata": {
      "tags": []
     },
     "output_type": "execute_result"
    }
   ],
   "source": [
    "#displaying the first 5 rows of dataframe -score\n",
    "score.head()"
   ]
  },
  {
   "cell_type": "markdown",
   "metadata": {
    "colab_type": "text",
    "id": "_TZgZPxkblbD"
   },
   "source": [
    "## Data Dictionary"
   ]
  },
  {
   "cell_type": "markdown",
   "metadata": {
    "colab_type": "text",
    "id": "-9LnlHP7blbE"
   },
   "source": [
    "### Dataframe-df"
   ]
  },
  {
   "cell_type": "markdown",
   "metadata": {
    "colab_type": "text",
    "id": "nDhV3K4mblbF"
   },
   "source": [
    "\n",
    "\n",
    "|Feature|Type|Description|\n",
    "|---|---|---|\n",
    "|event_id|object|Randomly generated unique identifier for the event type|\n",
    "|game_session|object|Randomly generated unique identifier grouping events within a single game or video play session|\n",
    "|timestamp|object|Client-generated datetime|\n",
    "|event_data|object|Semi-structured JSON formatted string containing the event parameters|\n",
    "|installation_id|object|Randomly generated unique identifier grouping game sessions within a single installed application instance|\n",
    "|event_count|int64|Incremental counter of events within a game session (offset at 1)|\n",
    "|event_code|int64| Unique Identifier per game, but duplicated across games|\n",
    "|game_time|int64|Time in milliseconds since the start of the game session|\n",
    "|title|object|Title of the section|\n",
    "|type|object|Media type of the section|\n",
    "|world|object|Main section of application|"
   ]
  },
  {
   "cell_type": "markdown",
   "metadata": {
    "colab_type": "text",
    "id": "VzXMl1-VblbH"
   },
   "source": [
    "### Dataframe-Score"
   ]
  },
  {
   "cell_type": "markdown",
   "metadata": {
    "colab_type": "text",
    "id": "2pMCQ0plblbI"
   },
   "source": [
    "|Feature|Type|Description|\n",
    "|---|---|---|\n",
    "|game_session|object|Randomly generated unique identifier for the event type|\n",
    "|installation_id|object|Randomly generated unique identifier grouping game sessions within a single installed application instance|\n",
    "|title|object|Title of assessment|\n",
    "|num_correct|int64|Number of attempt made to complete the assessment|\n",
    "|num_incorrect|int64|Number of incorrect attempt made to complete the assessment|\n",
    "|accuracy|float64|Calulated based on num_correct and num_incorrect|\n",
    "|accuracy_group|int64|Outcomes in this competition are grouped into 4 groups|\n"
   ]
  },
  {
   "cell_type": "markdown",
   "metadata": {
    "colab": {},
    "colab_type": "code",
    "id": "gUw16ql0Thes"
   },
   "source": [
    "## Data Visualization"
   ]
  },
  {
   "cell_type": "code",
   "execution_count": 0,
   "metadata": {
    "colab": {},
    "colab_type": "code",
    "id": "53SlPUqAyhU7"
   },
   "outputs": [],
   "source": [
    "# renaming the columns 'type' into 'section' as it is a keyword\n",
    "df = df.rename(columns={'type': 'section'})"
   ]
  },
  {
   "cell_type": "code",
   "execution_count": 0,
   "metadata": {
    "colab": {},
    "colab_type": "code",
    "id": "3OYSIMe3ylGf"
   },
   "outputs": [],
   "source": [
    "# converting date column to datetime type\n",
    "df['timestamp']=pd.to_datetime(df['timestamp'])\n",
    "df['year'] = pd.to_datetime(df['timestamp']).dt.year\n",
    "df['month'] = pd.to_datetime(df['timestamp']).dt.month\n",
    "df['day'] = pd.to_datetime(df['timestamp']).dt.day"
   ]
  },
  {
   "cell_type": "code",
   "execution_count": 15,
   "metadata": {
    "colab": {
     "base_uri": "https://localhost:8080/",
     "height": 233
    },
    "colab_type": "code",
    "id": "Sd1fZ2YFypI2",
    "outputId": "e459562f-e092-40f3-9dc9-2fa0390a1536"
   },
   "outputs": [
    {
     "data": {
      "text/html": [
       "<div>\n",
       "<style scoped>\n",
       "    .dataframe tbody tr th:only-of-type {\n",
       "        vertical-align: middle;\n",
       "    }\n",
       "\n",
       "    .dataframe tbody tr th {\n",
       "        vertical-align: top;\n",
       "    }\n",
       "\n",
       "    .dataframe thead th {\n",
       "        text-align: right;\n",
       "    }\n",
       "</style>\n",
       "<table border=\"1\" class=\"dataframe\">\n",
       "  <thead>\n",
       "    <tr style=\"text-align: right;\">\n",
       "      <th></th>\n",
       "      <th>event_id</th>\n",
       "      <th>game_session</th>\n",
       "      <th>timestamp</th>\n",
       "      <th>event_data</th>\n",
       "      <th>installation_id</th>\n",
       "      <th>event_count</th>\n",
       "      <th>event_code</th>\n",
       "      <th>game_time</th>\n",
       "      <th>title</th>\n",
       "      <th>section</th>\n",
       "      <th>world</th>\n",
       "      <th>year</th>\n",
       "      <th>month</th>\n",
       "      <th>day</th>\n",
       "    </tr>\n",
       "  </thead>\n",
       "  <tbody>\n",
       "    <tr>\n",
       "      <th>0</th>\n",
       "      <td>27253bdc</td>\n",
       "      <td>45bb1e1b6b50c07b</td>\n",
       "      <td>2019-09-06 17:53:46.937000+00:00</td>\n",
       "      <td>{\"event_code\": 2000, \"event_count\": 1}</td>\n",
       "      <td>0001e90f</td>\n",
       "      <td>1</td>\n",
       "      <td>2000</td>\n",
       "      <td>0</td>\n",
       "      <td>Welcome to Lost Lagoon!</td>\n",
       "      <td>Clip</td>\n",
       "      <td>NONE</td>\n",
       "      <td>2019</td>\n",
       "      <td>9</td>\n",
       "      <td>6</td>\n",
       "    </tr>\n",
       "    <tr>\n",
       "      <th>1</th>\n",
       "      <td>27253bdc</td>\n",
       "      <td>17eeb7f223665f53</td>\n",
       "      <td>2019-09-06 17:54:17.519000+00:00</td>\n",
       "      <td>{\"event_code\": 2000, \"event_count\": 1}</td>\n",
       "      <td>0001e90f</td>\n",
       "      <td>1</td>\n",
       "      <td>2000</td>\n",
       "      <td>0</td>\n",
       "      <td>Magma Peak - Level 1</td>\n",
       "      <td>Clip</td>\n",
       "      <td>MAGMAPEAK</td>\n",
       "      <td>2019</td>\n",
       "      <td>9</td>\n",
       "      <td>6</td>\n",
       "    </tr>\n",
       "  </tbody>\n",
       "</table>\n",
       "</div>"
      ],
      "text/plain": [
       "   event_id      game_session                        timestamp  \\\n",
       "0  27253bdc  45bb1e1b6b50c07b 2019-09-06 17:53:46.937000+00:00   \n",
       "1  27253bdc  17eeb7f223665f53 2019-09-06 17:54:17.519000+00:00   \n",
       "\n",
       "                               event_data installation_id  event_count  \\\n",
       "0  {\"event_code\": 2000, \"event_count\": 1}  0001e90f        1             \n",
       "1  {\"event_code\": 2000, \"event_count\": 1}  0001e90f        1             \n",
       "\n",
       "   event_code  game_time                    title section      world  year  \\\n",
       "0  2000        0          Welcome to Lost Lagoon!  Clip    NONE       2019   \n",
       "1  2000        0          Magma Peak - Level 1     Clip    MAGMAPEAK  2019   \n",
       "\n",
       "   month  day  \n",
       "0  9      6    \n",
       "1  9      6    "
      ]
     },
     "execution_count": 15,
     "metadata": {
      "tags": []
     },
     "output_type": "execute_result"
    }
   ],
   "source": [
    "df.head(2)"
   ]
  },
  {
   "cell_type": "code",
   "execution_count": 16,
   "metadata": {
    "colab": {
     "base_uri": "https://localhost:8080/",
     "height": 34
    },
    "colab_type": "code",
    "id": "Q05h5c-lMlDJ",
    "outputId": "79f63ba0-22eb-4423-e1ee-97c4e099a19d"
   },
   "outputs": [
    {
     "data": {
      "text/plain": [
       "17000"
      ]
     },
     "execution_count": 16,
     "metadata": {
      "tags": []
     },
     "output_type": "execute_result"
    }
   ],
   "source": [
    "# installation_id corresponds to number of users\n",
    "df['installation_id'].nunique()"
   ]
  },
  {
   "cell_type": "code",
   "execution_count": 17,
   "metadata": {
    "colab": {
     "base_uri": "https://localhost:8080/",
     "height": 518
    },
    "colab_type": "code",
    "id": "1eCRNf_LOshA",
    "outputId": "5802f374-cb7b-4d50-af1d-088b7f46936d"
   },
   "outputs": [
    {
     "data": {
      "image/png": "[encoded data removed]",
      "text/plain": [
       "<Figure size 576x576 with 1 Axes>"
      ]
     },
     "metadata": {
      "tags": []
     },
     "output_type": "display_data"
    }
   ],
   "source": [
    "sns.set(style=\"darkgrid\")\n",
    "plt.figure(figsize=(8,8))\n",
    "sns.countplot(df['world'],palette=\"Set3\")\n",
    "plt.title('Different types of World in the app');\n",
    "# different types of world in df\n"
   ]
  },
  {
   "cell_type": "markdown",
   "metadata": {},
   "source": [
    "There are three different sections in this app.\n",
    "None is not a section ,it means introduction to app"
   ]
  },
  {
   "cell_type": "code",
   "execution_count": 18,
   "metadata": {
    "colab": {
     "base_uri": "https://localhost:8080/",
     "height": 119
    },
    "colab_type": "code",
    "id": "WZHb5uz2LQ-2",
    "outputId": "68aa80ea-aaa8-40fd-c58d-9a0242ec8800"
   },
   "outputs": [
    {
     "data": {
      "text/plain": [
       "world\n",
       "CRYSTALCAVES    [Clip, Game, Activity, Assessment]\n",
       "MAGMAPEAK       [Clip, Activity, Game, Assessment]\n",
       "NONE            [Clip]                            \n",
       "TREETOPCITY     [Clip, Game, Activity, Assessment]\n",
       "Name: section, dtype: object"
      ]
     },
     "execution_count": 18,
     "metadata": {
      "tags": []
     },
     "output_type": "execute_result"
    }
   ],
   "source": [
    "# different kinds of sections in each world\n",
    "df.groupby('world').section.unique()"
   ]
  },
  {
   "cell_type": "code",
   "execution_count": 19,
   "metadata": {
    "colab": {
     "base_uri": "https://localhost:8080/",
     "height": 533
    },
    "colab_type": "code",
    "id": "A0LUuGuNOo0W",
    "outputId": "6655b961-28ca-40b0-fd20-72d95dc1e58d"
   },
   "outputs": [
    {
     "data": {
      "image/png": "[encoded data removed]",
      "text/plain": [
       "<Figure size 576x576 with 1 Axes>"
      ]
     },
     "metadata": {
      "tags": []
     },
     "output_type": "display_data"
    }
   ],
   "source": [
    "sns.set(style=\"darkgrid\")\n",
    "plt.figure(figsize=(8,8))\n",
    "sns.countplot(df['section'],palette=\"Set3\")\n",
    "plt.title('Different types of section in the app\\n');"
   ]
  },
  {
   "cell_type": "markdown",
   "metadata": {},
   "source": [
    "Each world has combinations of these four sections."
   ]
  },
  {
   "cell_type": "code",
   "execution_count": 20,
   "metadata": {
    "colab": {
     "base_uri": "https://localhost:8080/",
     "height": 139
    },
    "colab_type": "code",
    "id": "eSgEjYePJ-0N",
    "outputId": "e3ae584e-f852-4b72-d571-40b53d76fd48"
   },
   "outputs": [
    {
     "data": {
      "text/plain": [
       "world\n",
       "CRYSTALCAVES    [Crystal Caves - Level 1, Chow Time, Balancing Act, Crystal Caves - Level 2, Crystal Caves - Level 3, Chicken Balancer (Activity), Lifting Heavy Things, Pan Balance, Happy Camel, Honey Cake, Cart Balancer (Assessment), Heavy, Heavier, Heaviest, Egg Dropper (Activity), Chest Sorter (Assessment), Leaf Leader]                      \n",
       "MAGMAPEAK       [Magma Peak - Level 1, Sandcastle Builder (Activity), Scrub-A-Dub, Magma Peak - Level 2, Dino Drink, Watering Hole (Activity), Slop Problem, Bubble Bath, Bottle Filler (Activity), Dino Dive, Cauldron Filler (Assessment)]                                                                                                              \n",
       "NONE            [Welcome to Lost Lagoon!]                                                                                                                                                                                                                                                                                                                 \n",
       "TREETOPCITY     [Tree Top City - Level 1, Ordering Spheres, All Star Sorting, Costume Box, Fireworks (Activity), 12 Monkeys, Tree Top City - Level 2, Flower Waterer (Activity), Pirate's Tale, Mushroom Sorter (Assessment), Air Show, Treasure Map, Tree Top City - Level 3, Crystals Rule, Rulers, Bug Measurer (Activity), Bird Measurer (Assessment)]\n",
       "Name: title, dtype: object"
      ]
     },
     "execution_count": 20,
     "metadata": {
      "tags": []
     },
     "output_type": "execute_result"
    }
   ],
   "source": [
    "# different lessons in each world\n",
    "df.groupby('world').title.unique()"
   ]
  },
  {
   "cell_type": "code",
   "execution_count": 21,
   "metadata": {
    "colab": {
     "base_uri": "https://localhost:8080/",
     "height": 799
    },
    "colab_type": "code",
    "id": "gGyygpXaJ-wv",
    "outputId": "83768343-6f3b-4763-8d9e-062a6f80d6dc"
   },
   "outputs": [
    {
     "data": {
      "text/plain": [
       "title\n",
       "12 Monkeys                       1 \n",
       "Tree Top City - Level 3          1 \n",
       "Tree Top City - Level 2          1 \n",
       "Tree Top City - Level 1          1 \n",
       "Treasure Map                     1 \n",
       "Slop Problem                     1 \n",
       "Rulers                           1 \n",
       "Pirate's Tale                    1 \n",
       "Ordering Spheres                 1 \n",
       "Magma Peak - Level 2             1 \n",
       "Magma Peak - Level 1             1 \n",
       "Lifting Heavy Things             1 \n",
       "Honey Cake                       1 \n",
       "Heavy, Heavier, Heaviest         1 \n",
       "Crystal Caves - Level 3          1 \n",
       "Welcome to Lost Lagoon!          1 \n",
       "Crystal Caves - Level 1          1 \n",
       "Balancing Act                    1 \n",
       "Crystal Caves - Level 2          1 \n",
       "Costume Box                      1 \n",
       "Fireworks (Activity)             8 \n",
       "Egg Dropper (Activity)           9 \n",
       "Bug Measurer (Activity)          9 \n",
       "Flower Waterer (Activity)        10\n",
       "Chicken Balancer (Activity)      10\n",
       "Watering Hole (Activity)         11\n",
       "Sandcastle Builder (Activity)    11\n",
       "Bottle Filler (Activity)         12\n",
       "Crystals Rule                    15\n",
       "Dino Dive                        16\n",
       "Chow Time                        17\n",
       "All Star Sorting                 18\n",
       "Leaf Leader                      18\n",
       "Cart Balancer (Assessment)       18\n",
       "Air Show                         19\n",
       "Scrub-A-Dub                      19\n",
       "Pan Balance                      19\n",
       "Chest Sorter (Assessment)        19\n",
       "Dino Drink                       19\n",
       "Cauldron Filler (Assessment)     19\n",
       "Bird Measurer (Assessment)       20\n",
       "Mushroom Sorter (Assessment)     21\n",
       "Happy Camel                      22\n",
       "Bubble Bath                      24\n",
       "Name: event_code, dtype: int64"
      ]
     },
     "execution_count": 21,
     "metadata": {
      "tags": []
     },
     "output_type": "execute_result"
    }
   ],
   "source": [
    "# event_code corresponds to action done by user\n",
    "df.groupby('title').event_code.nunique().sort_values()"
   ]
  },
  {
   "cell_type": "code",
   "execution_count": 22,
   "metadata": {
    "colab": {
     "base_uri": "https://localhost:8080/",
     "height": 34
    },
    "colab_type": "code",
    "id": "ulDSnHeTsAKP",
    "outputId": "96070d62-0579-4cf3-a767-f11c2ab95bdc"
   },
   "outputs": [
    {
     "data": {
      "text/plain": [
       "array([2019])"
      ]
     },
     "execution_count": 22,
     "metadata": {
      "tags": []
     },
     "output_type": "execute_result"
    }
   ],
   "source": [
    "df['year'].unique() # data is collected for the year-2019"
   ]
  },
  {
   "cell_type": "code",
   "execution_count": 23,
   "metadata": {
    "colab": {
     "base_uri": "https://localhost:8080/",
     "height": 518
    },
    "colab_type": "code",
    "id": "CesTuOkuNrZ9",
    "outputId": "fbd3c74f-5f01-47ed-ffda-c5dbd95d3ac3"
   },
   "outputs": [
    {
     "data": {
      "image/png": "[encoded data removed]",
      "text/plain": [
       "<Figure size 576x576 with 1 Axes>"
      ]
     },
     "metadata": {
      "tags": []
     },
     "output_type": "display_data"
    }
   ],
   "source": [
    "sns.set(style=\"darkgrid\")\n",
    "plt.figure(figsize=(8,8))\n",
    "sns.countplot(df['month'],palette=\"Set3\")\n",
    "plt.title('Month - data collected ');"
   ]
  },
  {
   "cell_type": "markdown",
   "metadata": {},
   "source": [
    "Month on which the gameplay log was collected."
   ]
  },
  {
   "cell_type": "code",
   "execution_count": 24,
   "metadata": {
    "colab": {
     "base_uri": "https://localhost:8080/",
     "height": 119
    },
    "colab_type": "code",
    "id": "4e3QqhULJ-eJ",
    "outputId": "31bba8f1-9141-4d18-e7e6-d7d5367f1120"
   },
   "outputs": [
    {
     "data": {
      "text/plain": [
       "month\n",
       "7     [31, 28, 30, 26, 24, 27, 25, 29, 23]                                                                               \n",
       "8     [6, 9, 29, 24, 26, 25, 20, 21, 27, 1, 2, 10, 18, 7, 8, 12, 5, 28, 14, 30, 23, 22, 13, 15, 17, 11, 4, 16, 19, 31, 3]\n",
       "9     [6, 13, 14, 20, 11, 4, 22, 5, 10, 7, 8, 12, 26, 27, 30, 19, 29, 9, 15, 16, 25, 28, 17, 18, 1, 23, 24, 2, 3, 21]    \n",
       "10    [11, 1, 10, 5, 6, 12, 13, 9, 2, 3, 8, 4, 7, 14, 22]                                                                \n",
       "Name: day, dtype: object"
      ]
     },
     "execution_count": 24,
     "metadata": {
      "tags": []
     },
     "output_type": "execute_result"
    }
   ],
   "source": [
    "df.groupby('month').day.unique() # days of month on which data was collected"
   ]
  },
  {
   "cell_type": "code",
   "execution_count": 25,
   "metadata": {
    "colab": {
     "base_uri": "https://localhost:8080/",
     "height": 136
    },
    "colab_type": "code",
    "id": "KgFAv1WcHcp8",
    "outputId": "1aab5661-0ccb-491d-db16-d3913fee5b2c"
   },
   "outputs": [
    {
     "data": {
      "text/plain": [
       "title\n",
       "Bird Measurer (Assessment)      1587\n",
       "Cart Balancer (Assessment)      2100\n",
       "Cauldron Filler (Assessment)    1985\n",
       "Chest Sorter (Assessment)       1724\n",
       "Mushroom Sorter (Assessment)    1990\n",
       "Name: installation_id, dtype: int64"
      ]
     },
     "execution_count": 25,
     "metadata": {
      "tags": []
     },
     "output_type": "execute_result"
    }
   ],
   "source": [
    "# number of installation_id(number of users) for each assessment\n",
    "score.groupby('title').installation_id.nunique()"
   ]
  },
  {
   "cell_type": "code",
   "execution_count": 26,
   "metadata": {
    "colab": {
     "base_uri": "https://localhost:8080/",
     "height": 533
    },
    "colab_type": "code",
    "id": "GRP7yuiqapnR",
    "outputId": "8a0b456a-6fb7-4748-8032-94e47f2fb594"
   },
   "outputs": [
    {
     "data": {
      "image/png": "[encoded data removed]",
      "text/plain": [
       "<Figure size 576x576 with 1 Axes>"
      ]
     },
     "metadata": {
      "tags": []
     },
     "output_type": "display_data"
    }
   ],
   "source": [
    "\n",
    "sns.set(style=\"darkgrid\")\n",
    "plt.figure(figsize=(8,8))\n",
    "ax=sns.distplot(score.groupby('installation_id').title.nunique(),kde=False)\n",
    "plt.title('Distribution of number of assessment  \\n');\n",
    "#ax.set_xticklabels(ax.get_xticklabels(), rotation=40, ha=\"right\");"
   ]
  },
  {
   "cell_type": "markdown",
   "metadata": {},
   "source": [
    "This app has 5 assessments in total.The above graph shows the number of users based on the number of assessments taken."
   ]
  },
  {
   "cell_type": "code",
   "execution_count": 29,
   "metadata": {
    "colab": {
     "base_uri": "https://localhost:8080/",
     "height": 643
    },
    "colab_type": "code",
    "id": "NeTtJMHxijjh",
    "outputId": "94bf3026-5e6b-4ef5-cd07-dbd60cf9edcb"
   },
   "outputs": [
    {
     "data": {
      "image/png": "[encoded data removed]",
      "text/plain": [
       "<Figure size 576x576 with 1 Axes>"
      ]
     },
     "metadata": {
      "tags": []
     },
     "output_type": "display_data"
    }
   ],
   "source": [
    "sns.set(style=\"darkgrid\")\n",
    "plt.figure(figsize=(8,8))\n",
    "ax=sns.countplot(score['title'],palette=\"Set3\")\n",
    "plt.title('Types of Assessment \\n');\n",
    "ax.set_xticklabels(ax.get_xticklabels(), rotation=40, ha=\"right\");"
   ]
  },
  {
   "cell_type": "markdown",
   "metadata": {},
   "source": [
    "The above graph shows the different types of assessment in this app for which the accuracy_group(grades) are specified in dataset"
   ]
  },
  {
   "cell_type": "code",
   "execution_count": 30,
   "metadata": {
    "colab": {
     "base_uri": "https://localhost:8080/",
     "height": 533
    },
    "colab_type": "code",
    "id": "zCd8V_JUQpMB",
    "outputId": "d422376a-7908-47f0-dd5f-b27ba55a5c9d"
   },
   "outputs": [
    {
     "data": {
      "image/png": "[encoded data removed]",
      "text/plain": [
       "<Figure size 576x576 with 1 Axes>"
      ]
     },
     "metadata": {
      "tags": []
     },
     "output_type": "display_data"
    }
   ],
   "source": [
    "sns.set(style=\"darkgrid\")\n",
    "plt.figure(figsize=(8,8))\n",
    "ax=sns.distplot(score['num_incorrect'],kde=False,bins=50)\n",
    "plt.title('number of incorrect attempts made by user \\n');"
   ]
  },
  {
   "cell_type": "code",
   "execution_count": 31,
   "metadata": {
    "colab": {
     "base_uri": "https://localhost:8080/",
     "height": 533
    },
    "colab_type": "code",
    "id": "VqgnJrVpSR3Q",
    "outputId": "01006bbc-f5e8-486e-b9c4-43d1aeb2b6f2"
   },
   "outputs": [
    {
     "data": {
      "image/png": "[encoded data removed]",
      "text/plain": [
       "<Figure size 576x576 with 1 Axes>"
      ]
     },
     "metadata": {
      "tags": []
     },
     "output_type": "display_data"
    }
   ],
   "source": [
    "sns.set(style=\"darkgrid\")\n",
    "plt.figure(figsize=(8,8))\n",
    "ax=sns.distplot(score['num_correct'],kde=False,bins=50)\n",
    "plt.title('number of correct attempts made by user \\n');"
   ]
  },
  {
   "cell_type": "markdown",
   "metadata": {
    "colab": {},
    "colab_type": "code",
    "id": "3KjRE8iUSdqu"
   },
   "source": [
    "***Most of the students got it correct in their first attempt***"
   ]
  },
  {
   "cell_type": "code",
   "execution_count": 33,
   "metadata": {
    "colab": {
     "base_uri": "https://localhost:8080/",
     "height": 533
    },
    "colab_type": "code",
    "id": "cnc-wiEJjrcq",
    "outputId": "ea641a99-c7fb-44b7-c9ba-0c6744087982"
   },
   "outputs": [
    {
     "data": {
      "image/png": "[encoded data removed]",
      "text/plain": [
       "<Figure size 576x576 with 1 Axes>"
      ]
     },
     "metadata": {
      "tags": []
     },
     "output_type": "display_data"
    }
   ],
   "source": [
    "sns.set(style=\"darkgrid\")\n",
    "plt.figure(figsize=(8,8))\n",
    "ax=sns.countplot(score['accuracy_group'],palette=\"Set3\")\n",
    "plt.title('Overall Assessment grades  \\n');"
   ]
  },
  {
   "cell_type": "markdown",
   "metadata": {},
   "source": [
    "There are 4 accuracy group<br>\n",
    "3: the assessment was solved on the first attempt<br>\n",
    "2: the assessment was solved on the second attempt<br>\n",
    "1: the assessment was solved after 3 or more attempts<br>\n",
    "0: the assessment was never solved<br>"
   ]
  },
  {
   "cell_type": "code",
   "execution_count": 34,
   "metadata": {
    "colab": {
     "base_uri": "https://localhost:8080/",
     "height": 136
    },
    "colab_type": "code",
    "id": "b0kVl761Hc18",
    "outputId": "16435763-f94c-46d7-fa37-b1ad18f145ba"
   },
   "outputs": [
    {
     "data": {
      "text/plain": [
       "title\n",
       "Bird Measurer (Assessment)      [0, 3, 2, 1]\n",
       "Cart Balancer (Assessment)      [3, 0, 2, 1]\n",
       "Cauldron Filler (Assessment)    [3, 1, 2, 0]\n",
       "Chest Sorter (Assessment)       [0, 2, 3, 1]\n",
       "Mushroom Sorter (Assessment)    [3, 2, 0, 1]\n",
       "Name: accuracy_group, dtype: object"
      ]
     },
     "execution_count": 34,
     "metadata": {
      "tags": []
     },
     "output_type": "execute_result"
    }
   ],
   "source": [
    "#possible accuracy_group(grade) value in each assessment \n",
    "score.groupby('title').accuracy_group.unique()"
   ]
  }
 ],
 "metadata": {
  "colab": {
   "collapsed_sections": [],
   "name": "pbskidsEDA.ipynb",
   "provenance": []
  },
  "kernelspec": {
   "display_name": "Python 3",
   "language": "python",
   "name": "python3"
  },
  "language_info": {
   "codemirror_mode": {
    "name": "ipython",
    "version": 3
   },
   "file_extension": ".py",
   "mimetype": "text/x-python",
   "name": "python",
   "nbconvert_exporter": "python",
   "pygments_lexer": "ipython3",
   "version": "3.7.4"
  }
 },
 "nbformat": 4,
 "nbformat_minor": 1
}
