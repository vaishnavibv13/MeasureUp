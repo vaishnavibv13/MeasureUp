{
 "cells": [
  {
   "cell_type": "markdown",
   "metadata": {},
   "source": [
    "# PBS Kids Measure Up!"
   ]
  },
  {
   "cell_type": "markdown",
   "metadata": {},
   "source": [
    "## Problem Statement\n",
    "---"
   ]
  },
  {
   "cell_type": "markdown",
   "metadata": {},
   "source": [
    "In the PBS KIDS Measure Up! app, children ages 3 to 5 learn early STEM concepts focused on length,\n",
    "capacity and weight while going on an adventure through different worlds - Treetop City, Magma Peak, \n",
    "and Crystal Caves. Joined by their favourite PBS KIDS characters from Dinosaur Train, Peg + Cat, \n",
    "and Sid the Science Kid, children can also collect rewards and unlock digital toys as they play.\n",
    "This project will predict grades on in-game assessments and create an model that will\n",
    "lead to better-designed games and improved learning outcomes."
   ]
  },
  {
   "cell_type": "markdown",
   "metadata": {},
   "source": [
    "## Executive Summary\n",
    "\n",
    "\n",
    "\n",
    "### Contents\n",
    "- [Exploratory Data Analysis](#Exploratory-Data-Analysis)\n",
    "- [Pre Processing](#Pre-Processing)\n",
    "- [Modeling](#Modeling)\n",
    "- [Inferential Visualizations](#Inferential-Visualizations)\n",
    "- [Conclusions and Recommendation](#Conclusions-and-Recommendation)"
   ]
  },
  {
   "cell_type": "markdown",
   "metadata": {},
   "source": [
    "# Exploratory Data Analysis"
   ]
  },
  {
   "cell_type": "markdown",
   "metadata": {},
   "source": [
    "[Click here to open notebook](pbskidsEDA.ipynb)<br>"
   ]
  },
  {
   "cell_type": "markdown",
   "metadata": {},
   "source": [
    "# Pre Processing"
   ]
  },
  {
   "cell_type": "markdown",
   "metadata": {},
   "source": [
    "\n",
    "[Click here to open notebook](Pbskids.ipynb)<br>\n",
    "\n"
   ]
  },
  {
   "cell_type": "markdown",
   "metadata": {},
   "source": [
    "# Feature Engineering"
   ]
  },
  {
   "cell_type": "markdown",
   "metadata": {},
   "source": [
    ">1.World 1- MagmaPeak -Preprocessing &nbsp;     [Click here to open notebook](magmapeak.ipynb)<br>\n",
    ">2.World 2- TreeTop City -Preprocessing &nbsp;    [Click here to open notebook](TreeTopCity.ipynb)<br>\n",
    ">3.World 3- Crystal Caves -Preprocessing &nbsp;    [Click here to open notebook](CrystalCaves.ipynb)<br>"
   ]
  },
  {
   "cell_type": "markdown",
   "metadata": {},
   "source": [
    "# Modeling"
   ]
  },
  {
   "cell_type": "markdown",
   "metadata": {},
   "source": [
    "[Click here to open notebook ](Model.ipynb)<br>"
   ]
  },
  {
   "cell_type": "markdown",
   "metadata": {},
   "source": [
    "# Inferential Visualizations"
   ]
  },
  {
   "cell_type": "markdown",
   "metadata": {},
   "source": [
    "[Click here to open notebook ](InferentialVisualizations.ipynb)<br>"
   ]
  },
  {
   "cell_type": "markdown",
   "metadata": {},
   "source": [
    "# Conclusions and Recommendation"
   ]
  },
  {
   "cell_type": "markdown",
   "metadata": {},
   "source": [
    "Calculating the coefficients of Logistic Regression and further exploring the lessons with lower coefficients,following conclusion/recommendation is made.<br>\n",
    "\n",
    "Bug Measurer, Flower waterer, Fireworks, Bottle filler and sandcastle builder are some of the lessons where the percentage of people who have played and won is significantly more than people who haven’t played and won.<br>\n",
    "These are the lessons which are most poular in this application.It is interesting to note that all these lessons activity based.Activities are mini games which do not have a specific goal but still helps the children to practise the concept in an interesting manner.\n",
    "As games have specific goals and if a task is not completed correctly, one will not be able to proceed further,hence Children might be attracted towards activity based lessons than games based lessons. <br>\n",
    "\n",
    "Egg dropper, heavy-heavier-heaviest,leaf leader,pan balance,costume box,rulers,treasure map and slop problem are some of the lessons where the percentage of people who have played and won is significantly less than people who haven’t played and won.<br>\n",
    " All these lessons are appear very complicated for the age 3 to 5.If children could not finish a lesson, they will probably be not much interested and will not try that lessons again and hence they are less popular lessons.We can also say that these lessons do not contribute to earn good grades in assessment and hence these lessons can be replaced by simpler activities which will help them to undertand a concept better.<br>\n",
    "It is also interesting to note that some of the lessons are of type videos,which are \n",
    "are conversational, and probably children might be interested into videos which has music like a song or rhyme.<br>\n"
   ]
  },
  {
   "cell_type": "code",
   "execution_count": null,
   "metadata": {},
   "outputs": [],
   "source": []
  }
 ],
 "metadata": {
  "kernelspec": {
   "display_name": "Python 3",
   "language": "python",
   "name": "python3"
  },
  "language_info": {
   "codemirror_mode": {
    "name": "ipython",
    "version": 3
   },
   "file_extension": ".py",
   "mimetype": "text/x-python",
   "name": "python",
   "nbconvert_exporter": "python",
   "pygments_lexer": "ipython3",
   "version": "3.7.4"
  }
 },
 "nbformat": 4,
 "nbformat_minor": 2
}
